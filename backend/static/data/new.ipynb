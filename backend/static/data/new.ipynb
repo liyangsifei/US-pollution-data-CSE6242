{
 "cells": [
  {
   "cell_type": "code",
   "execution_count": 1,
   "metadata": {},
   "outputs": [],
   "source": [
    "import pandas as pd"
   ]
  },
  {
   "cell_type": "code",
   "execution_count": 2,
   "metadata": {},
   "outputs": [
    {
     "name": "stdout",
     "output_type": "stream",
     "text": [
      "       year parameter    result   latitude   longitude\n",
      "0      2015       PAH   18.6125  70.796680 -158.817640\n",
      "1      2015       PAH  882.6200  70.896480 -154.517140\n",
      "2      2015       PAH  293.8100  70.776060 -159.160230\n",
      "3      2015       PAH  737.4800  70.837720 -158.763280\n",
      "4      2015       PAH  984.6200  70.510080 -159.780900\n",
      "...     ...       ...       ...        ...         ...\n",
      "14851  2013       PAH    0.0700  14.956953  145.629365\n",
      "14852  2013       PAH    0.1200  14.943792  145.628008\n",
      "14853  2013       PAH    0.0700  14.949219  145.628712\n",
      "14854  2013       PAH    0.0500  14.967793  145.616535\n",
      "14855  2013       PAH    0.0600  14.991043  145.603948\n",
      "\n",
      "[14856 rows x 5 columns]\n"
     ]
    }
   ],
   "source": [
    "df = pd.read_csv('marine_data.csv')\n",
    "print(df)"
   ]
  },
  {
   "cell_type": "code",
   "execution_count": 3,
   "metadata": {},
   "outputs": [
    {
     "name": "stdout",
     "output_type": "stream",
     "text": [
      "       year parameter    result   latitude   longitude\n",
      "0      2015       PAH   18.6125  70.796680 -158.817640\n",
      "1      2015       PAH  882.6200  70.896480 -154.517140\n",
      "2      2015       PAH  293.8100  70.776060 -159.160230\n",
      "3      2015       PAH  737.4800  70.837720 -158.763280\n",
      "4      2015       PAH  984.6200  70.510080 -159.780900\n",
      "...     ...       ...       ...        ...         ...\n",
      "14851  2013       PAH    0.0700  14.956953  145.629365\n",
      "14852  2013       PAH    0.1200  14.943792  145.628008\n",
      "14853  2013       PAH    0.0700  14.949219  145.628712\n",
      "14854  2013       PAH    0.0500  14.967793  145.616535\n",
      "14855  2013       PAH    0.0600  14.991043  145.603948\n",
      "\n",
      "[13176 rows x 5 columns]\n"
     ]
    }
   ],
   "source": [
    "df = df[df.result != 0]\n",
    "print(df)"
   ]
  },
  {
   "cell_type": "code",
   "execution_count": 4,
   "metadata": {},
   "outputs": [],
   "source": [
    "df.to_csv(\"new.csv\")"
   ]
  },
  {
   "cell_type": "code",
   "execution_count": null,
   "metadata": {},
   "outputs": [],
   "source": [
    "https://stackoverflow.com/questions/29979140/uncaught-typeerror-cannot-read-property-0-of-null-in-d3\n",
    "\n",
    "    https://www.google.com/search?rlz=1C5CHFA_enTW914TW914&ei=qiG5X5H2DrnfmAXE74vwCg&q=uncaught+TypeError%3A+Cannot+read+property+%270%27+of+null+at+SVGCircleElement.%3Canonymous%3E+d3&oq=uncaught+TypeError%3A+Cannot+read+property+%270%27+of+null+at+SVGCircleElement.%3Canonymous%3E+d3&gs_lcp=CgZwc3ktYWIQA1DjfViaggFgsIgBaAFwAHgAgAGGAYgBggOSAQMzLjGYAQCgAQGqAQdnd3Mtd2l6wAEB&sclient=psy-ab&ved=0ahUKEwiR87-P6pPtAhW5L6YKHcT3Aq4Q4dUDCA0&uact=5"
   ]
  }
 ],
 "metadata": {
  "kernelspec": {
   "display_name": "Python 3",
   "language": "python",
   "name": "python3"
  },
  "language_info": {
   "codemirror_mode": {
    "name": "ipython",
    "version": 3
   },
   "file_extension": ".py",
   "mimetype": "text/x-python",
   "name": "python",
   "nbconvert_exporter": "python",
   "pygments_lexer": "ipython3",
   "version": "3.7.7"
  }
 },
 "nbformat": 4,
 "nbformat_minor": 4
}
