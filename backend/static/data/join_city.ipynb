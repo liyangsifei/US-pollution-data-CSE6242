{
 "cells": [
  {
   "cell_type": "code",
   "execution_count": 3,
   "metadata": {},
   "outputs": [],
   "source": [
    "import os\n",
    "import pandas as pd\n",
    "import numpy as np\n",
    "import random\n",
    "from datetime import datetime\n",
    "import matplotlib as mpl\n",
    "import matplotlib.pyplot as plt\n",
    "from matplotlib.animation import FuncAnimation\n",
    "\n"
   ]
  },
  {
   "cell_type": "code",
   "execution_count": 4,
   "metadata": {},
   "outputs": [],
   "source": [
    "def load_data(filename):\n",
    "    try:\n",
    "        df = pd.read_csv(filename)\n",
    "        print(\"Data has\",len(df),\"rows and\", len(df.columns),\"columns.\")\n",
    "    except:\n",
    "        print(\"Load  \" + filename + \" data error!\")\n",
    "    return df\n"
   ]
  },
  {
   "cell_type": "code",
   "execution_count": 5,
   "metadata": {},
   "outputs": [],
   "source": [
    "\n",
    "\n",
    "def save_data(data ,filename):\n",
    "    data.to_csv(filename)\n",
    "    print(\"save data \" + filename)\n"
   ]
  },
  {
   "cell_type": "code",
   "execution_count": 6,
   "metadata": {},
   "outputs": [
    {
     "name": "stdout",
     "output_type": "stream",
     "text": [
      "Untitled.ipynb            full_data.csv             marine_predict_data_.csv\r\n",
      "air_cluster_.csv          insertMarine.py           result.csv\r\n",
      "air_cluster_data.csv      insert_db.py              result_00-16_by_month.csv\r\n",
      "air_predict_data.csv      join_city.ipynb           result_17-20.csv\r\n",
      "air_predict_data_.csv     marine_data.csv           result_17-20_by_month.csv\r\n",
      "coordinates.csv           marine_predict_data.csv\r\n"
     ]
    }
   ],
   "source": [
    "!ls"
   ]
  },
  {
   "cell_type": "code",
   "execution_count": 15,
   "metadata": {},
   "outputs": [
    {
     "name": "stdout",
     "output_type": "stream",
     "text": [
      "Data has 6672 rows and 9 columns.\n",
      "Data has 1327 rows and 5 columns.\n",
      "        State   County           City   Latitude   Longitude\n",
      "0     Alabama  Baldwin       Fairhope  30.497478  -87.880258\n",
      "1     Alabama  Colbert  Muscle Shoals  34.762619  -87.638097\n",
      "2     Alabama   DeKalb     Crossville  34.289001  -85.970065\n",
      "3     Alabama   Elmore       Wetumpka  32.537022  -86.243770\n",
      "4     Alabama   Etowah      Southside  33.904039  -86.053867\n",
      "...       ...      ...            ...        ...         ...\n",
      "1322  Wyoming    Teton        Jackson  43.482560 -110.745260\n",
      "1323  Wyoming    Teton  Not in a city  44.181836 -110.582638\n",
      "1324  Wyoming    Uinta  Not in a city  41.373097 -111.042376\n",
      "1325  Wyoming   Weston      Newcastle  43.845390 -104.205120\n",
      "1326  Wyoming   Weston  Not in a city  43.873056 -104.191944\n",
      "\n",
      "[1327 rows x 5 columns]\n",
      "      Unnamed: 0     CO AQI    SO2 AQI     O3 AQI    NO2 AQI   Latitude  \\\n",
      "0            0.0  33.290323  14.258065  30.145161  90.596774  33.515176   \n",
      "1          245.0  31.322581  11.064516  16.758065  52.967742  33.515176   \n",
      "2          257.0  25.580645  11.548387  19.661290  53.080645  33.515176   \n",
      "3          577.0  24.387097  10.338710  18.032258  52.000000  33.515176   \n",
      "4          915.0  14.677419   4.338710  17.951613  39.564516  33.515176   \n",
      "...          ...        ...        ...        ...        ...        ...   \n",
      "7901         NaN        NaN        NaN        NaN        NaN  43.482560   \n",
      "7902         NaN        NaN        NaN        NaN        NaN  44.181836   \n",
      "7903         NaN        NaN        NaN        NaN        NaN  41.373097   \n",
      "7904         NaN        NaN        NaN        NaN        NaN  43.845390   \n",
      "7905         NaN        NaN        NaN        NaN        NaN  43.873056   \n",
      "\n",
      "       Longitude  label        Date    State  County           City  \n",
      "0    -111.967419    2.0  2000-01-01      NaN     NaN            NaN  \n",
      "1    -111.967419    3.0  2000-12-01      NaN     NaN            NaN  \n",
      "2    -111.967419    4.0  2002-01-01      NaN     NaN            NaN  \n",
      "3    -111.967419    1.0  2003-01-01      NaN     NaN            NaN  \n",
      "4    -111.967419    0.0  2005-01-01      NaN     NaN            NaN  \n",
      "...          ...    ...         ...      ...     ...            ...  \n",
      "7901 -110.745260    NaN         NaN  Wyoming   Teton        Jackson  \n",
      "7902 -110.582638    NaN         NaN  Wyoming   Teton  Not in a city  \n",
      "7903 -111.042376    NaN         NaN  Wyoming   Uinta  Not in a city  \n",
      "7904 -104.205120    NaN         NaN  Wyoming  Weston      Newcastle  \n",
      "7905 -104.191944    NaN         NaN  Wyoming  Weston  Not in a city  \n",
      "\n",
      "[7906 rows x 12 columns]\n"
     ]
    }
   ],
   "source": [
    "dataname = \"air_cluster_.csv\"\n",
    "data = load_data(dataname)\n",
    "coor = load_data(\"coordinates.csv\")\n",
    "#print(data)\n",
    "print(coor)\n",
    "df_export = pd.merge(data, coor, on=['Latitude', 'Longitude'], how='outer')\n",
    "print(df_export)"
   ]
  },
  {
   "cell_type": "code",
   "execution_count": 16,
   "metadata": {},
   "outputs": [
    {
     "name": "stdout",
     "output_type": "stream",
     "text": [
      "save data cluster_wC.csv\n"
     ]
    }
   ],
   "source": [
    "save_data(df_export, \"cluster_wC.csv\")"
   ]
  },
  {
   "cell_type": "code",
   "execution_count": 19,
   "metadata": {},
   "outputs": [],
   "source": [
    "from geopy.extra.rate_limiter import RateLimiter\n",
    "from geopy.geocoders import Nominatim\n",
    "from geopy import geocoders"
   ]
  },
  {
   "cell_type": "code",
   "execution_count": 21,
   "metadata": {},
   "outputs": [
    {
     "name": "stdout",
     "output_type": "stream",
     "text": [
      "{'place_id': 81262851, 'licence': 'Data © OpenStreetMap contributors, ODbL 1.0. https://osm.org/copyright', 'osm_type': 'way', 'osm_id': 4208595, 'lat': '48.85614465', 'lon': '2.297820393322227', 'display_name': 'Champ de Mars, Rue du Capitaine Scott, Quartier de Grenelle, Paris, Île-de-France, France métropolitaine, 75015, France', 'address': {'tourism': 'Champ de Mars', 'road': 'Rue du Capitaine Scott', 'suburb': 'Quartier de Grenelle', 'city': 'Paris', 'municipality': 'Paris', 'county': 'Paris', 'state': 'Île-de-France', 'country': 'France', 'postcode': '75015', 'country_code': 'fr'}, 'boundingbox': ['48.8522459', '48.8600801', '2.2918711', '2.303791']}\n"
     ]
    }
   ],
   "source": [
    "geolocator = Nominatim(user_agent='myapplication')\n",
    "location = geolocator.reverse(\"48.8588443, 2.2943506\")\n",
    "print (location.raw)\n",
    "location = geolocator.geocode(city,timeout=None);\n"
   ]
  },
  {
   "cell_type": "code",
   "execution_count": null,
   "metadata": {},
   "outputs": [],
   "source": []
  }
 ],
 "metadata": {
  "kernelspec": {
   "display_name": "Python 3",
   "language": "python",
   "name": "python3"
  },
  "language_info": {
   "codemirror_mode": {
    "name": "ipython",
    "version": 3
   },
   "file_extension": ".py",
   "mimetype": "text/x-python",
   "name": "python",
   "nbconvert_exporter": "python",
   "pygments_lexer": "ipython3",
   "version": "3.7.7"
  }
 },
 "nbformat": 4,
 "nbformat_minor": 4
}
