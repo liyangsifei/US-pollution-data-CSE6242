{
 "cells": [
  {
   "cell_type": "code",
   "execution_count": 1,
   "metadata": {},
   "outputs": [],
   "source": [
    "import pandas as pd"
   ]
  },
  {
   "cell_type": "code",
   "execution_count": 3,
   "metadata": {},
   "outputs": [],
   "source": [
    "file17 = \"po_17_20.csv\"\n",
    "file16 = \"po_00_16_output.csv\""
   ]
  },
  {
   "cell_type": "code",
   "execution_count": 5,
   "metadata": {},
   "outputs": [],
   "source": [
    "data = pd.read_csv(file17, header=0)\n",
    "data = data.drop('Unnamed: 0', 1)"
   ]
  },
  {
   "cell_type": "code",
   "execution_count": 6,
   "metadata": {},
   "outputs": [],
   "source": [
    "data[\"Date Local\"] = pd.to_datetime(data['Date Local'],format='%Y-%m-%d')"
   ]
  },
  {
   "cell_type": "code",
   "execution_count": 7,
   "metadata": {},
   "outputs": [
    {
     "name": "stdout",
     "output_type": "stream",
     "text": [
      "           State     County           City Date Local   CO Mean  \\\n",
      "0        Alabama  Jefferson     Birmingham 2017-01-01  0.378947   \n",
      "1        Alabama  Jefferson     Birmingham 2017-01-02  0.408333   \n",
      "2        Alabama  Jefferson     Birmingham 2017-01-03  0.287500   \n",
      "3        Alabama  Jefferson     Birmingham 2017-01-04  0.239286   \n",
      "4        Alabama  Jefferson     Birmingham 2017-01-05  0.278125   \n",
      "...          ...        ...            ...        ...       ...   \n",
      "1272689  Wyoming      Teton        Jackson 2019-03-09       NaN   \n",
      "1272690  Wyoming      Teton        Jackson 2019-03-10       NaN   \n",
      "1272691  Wyoming      Uinta  Not in a city 2017-03-02       NaN   \n",
      "1272692  Wyoming      Uinta  Not in a city 2017-05-02       NaN   \n",
      "1272693  Wyoming      Uinta  Not in a city 2018-05-16       NaN   \n",
      "\n",
      "         CO 1st Max Value  CO 1st Max Hour  CO AQI  SO2 Mean  \\\n",
      "0                    0.50             13.5     5.5  0.000000   \n",
      "1                    0.55              1.0     6.0       NaN   \n",
      "2                    0.45             20.5     5.5  3.292857   \n",
      "3                    0.40              0.0     5.0  7.762500   \n",
      "4                    0.35             11.0     4.0  5.797249   \n",
      "...                   ...              ...     ...       ...   \n",
      "1272689               NaN              NaN     NaN       NaN   \n",
      "1272690               NaN              NaN     NaN       NaN   \n",
      "1272691               NaN              NaN     NaN       NaN   \n",
      "1272692               NaN              NaN     NaN       NaN   \n",
      "1272693               NaN              NaN     NaN       NaN   \n",
      "\n",
      "         SO2 1st Max Value  ...   O3 Mean  O3 1st Max Value  O3 1st Max Hour  \\\n",
      "0                     0.00  ...  0.019059             0.023              7.0   \n",
      "1                      NaN  ...  0.026353             0.030             18.0   \n",
      "2                    24.20  ...  0.015882             0.025              8.0   \n",
      "3                    26.65  ...  0.022500             0.025             13.0   \n",
      "4                    21.10  ...  0.022417             0.024              8.0   \n",
      "...                    ...  ...       ...               ...              ...   \n",
      "1272689                NaN  ...       NaN               NaN              NaN   \n",
      "1272690                NaN  ...       NaN               NaN              NaN   \n",
      "1272691                NaN  ...       NaN               NaN              NaN   \n",
      "1272692                NaN  ...       NaN               NaN              NaN   \n",
      "1272693                NaN  ...       NaN               NaN              NaN   \n",
      "\n",
      "         O3 AQI   NO2 Mean  NO2 1st Max Value  NO2 1st Max Hour  NO2 AQI  \\\n",
      "0          21.0   6.345652              10.55              19.5      9.5   \n",
      "1          28.0   6.821402              15.60              16.0     14.0   \n",
      "2          23.0  11.401630              22.45              18.5     21.0   \n",
      "3          23.0   6.106029              20.40              23.0     19.0   \n",
      "4          22.0  10.329678              22.40               7.0     21.0   \n",
      "...         ...        ...                ...               ...      ...   \n",
      "1272689     NaN   0.470833               3.00              21.0      3.0   \n",
      "1272690     NaN   0.856522               2.60               7.0      2.0   \n",
      "1272691     NaN   4.533333              16.50              21.0     15.0   \n",
      "1272692     NaN   0.500000               0.60              14.0      0.0   \n",
      "1272693     NaN   2.263636               4.60               3.0      4.0   \n",
      "\n",
      "          Latitude   Longitude  \n",
      "0        33.547234  -86.818150  \n",
      "1        33.547234  -86.818150  \n",
      "2        33.547234  -86.818150  \n",
      "3        33.547234  -86.818150  \n",
      "4        33.547234  -86.818150  \n",
      "...            ...         ...  \n",
      "1272689  43.482560 -110.745260  \n",
      "1272690  43.482560 -110.745260  \n",
      "1272691  41.373097 -111.042376  \n",
      "1272692  41.373097 -111.042376  \n",
      "1272693  41.373097 -111.042376  \n",
      "\n",
      "[1272694 rows x 22 columns]\n"
     ]
    }
   ],
   "source": [
    "data.dropna(axis=0, how='any', inplace=True)"
   ]
  },
  {
   "cell_type": "code",
   "execution_count": 6,
   "metadata": {},
   "outputs": [],
   "source": [
    "g = data.groupby(['State',pd.Grouper(key='Date Local', freq='M')])\n",
    "result = g.mean()"
   ]
  },
  {
   "cell_type": "code",
   "execution_count": 8,
   "metadata": {},
   "outputs": [],
   "source": [
    "g = data.groupby(['State','County', pd.Grouper(key='Date Local', freq='M')])\n",
    "result = g.mean()"
   ]
  },
  {
   "cell_type": "code",
   "execution_count": null,
   "metadata": {},
   "outputs": [],
   "source": []
  },
  {
   "cell_type": "code",
   "execution_count": 9,
   "metadata": {},
   "outputs": [
    {
     "name": "stdout",
     "output_type": "stream",
     "text": [
      "                            CO Mean  CO 1st Max Value  CO 1st Max Hour  \\\n",
      "State   County  Date Local                                               \n",
      "Alabama Baldwin 2017-02-28      NaN               NaN              NaN   \n",
      "                2017-03-31      NaN               NaN              NaN   \n",
      "                2017-04-30      NaN               NaN              NaN   \n",
      "                2017-05-31      NaN               NaN              NaN   \n",
      "                2017-06-30      NaN               NaN              NaN   \n",
      "...                             ...               ...              ...   \n",
      "Wyoming Weston  2019-08-31      NaN               NaN              NaN   \n",
      "                2019-09-30      NaN               NaN              NaN   \n",
      "                2019-10-31      NaN               NaN              NaN   \n",
      "                2019-11-30      NaN               NaN              NaN   \n",
      "                2019-12-31      NaN               NaN              NaN   \n",
      "\n",
      "                            CO AQI  SO2 Mean  SO2 1st Max Value  \\\n",
      "State   County  Date Local                                        \n",
      "Alabama Baldwin 2017-02-28     NaN       NaN                NaN   \n",
      "                2017-03-31     NaN       NaN                NaN   \n",
      "                2017-04-30     NaN       NaN                NaN   \n",
      "                2017-05-31     NaN       NaN                NaN   \n",
      "                2017-06-30     NaN       NaN                NaN   \n",
      "...                            ...       ...                ...   \n",
      "Wyoming Weston  2019-08-31     NaN  1.145161           1.496774   \n",
      "                2019-09-30     NaN  0.747667           1.013333   \n",
      "                2019-10-31     NaN  0.086203           0.467742   \n",
      "                2019-11-30     NaN  0.264722           0.603333   \n",
      "                2019-12-31     NaN  0.231224           0.600000   \n",
      "\n",
      "                            SO2 1st Max Hour   SO2 AQI   O3 Mean  \\\n",
      "State   County  Date Local                                         \n",
      "Alabama Baldwin 2017-02-28               NaN       NaN  0.021000   \n",
      "                2017-03-31               NaN       NaN  0.038209   \n",
      "                2017-04-30               NaN       NaN  0.034032   \n",
      "                2017-05-31               NaN       NaN  0.038158   \n",
      "                2017-06-30               NaN       NaN  0.023846   \n",
      "...                                      ...       ...       ...   \n",
      "Wyoming Weston  2019-08-31         10.903226  1.161290  0.042704   \n",
      "                2019-09-30          9.600000  0.633333  0.038598   \n",
      "                2019-10-31          8.161290  0.129032  0.033631   \n",
      "                2019-11-30          9.333333  0.100000  0.032535   \n",
      "                2019-12-31          9.161290  0.096774  0.036394   \n",
      "\n",
      "                            O3 1st Max Value  O3 1st Max Hour     O3 AQI  \\\n",
      "State   County  Date Local                                                 \n",
      "Alabama Baldwin 2017-02-28          0.021000        23.000000  19.000000   \n",
      "                2017-03-31          0.045900        10.633333  42.633333   \n",
      "                2017-04-30          0.045300         9.633333  42.833333   \n",
      "                2017-05-31          0.048032        10.225806  50.580645   \n",
      "                2017-06-30          0.029862        10.793103  28.000000   \n",
      "...                                      ...              ...        ...   \n",
      "Wyoming Weston  2019-08-31          0.047323        11.225806  43.838710   \n",
      "                2019-09-30          0.041700        10.533333  38.700000   \n",
      "                2019-10-31          0.036000        12.677419  33.290323   \n",
      "                2019-11-30          0.035300        12.133333  32.600000   \n",
      "                2019-12-31          0.039129        12.677419  36.193548   \n",
      "\n",
      "                            NO2 Mean  NO2 1st Max Value  NO2 1st Max Hour  \\\n",
      "State   County  Date Local                                                  \n",
      "Alabama Baldwin 2017-02-28       NaN                NaN               NaN   \n",
      "                2017-03-31       NaN                NaN               NaN   \n",
      "                2017-04-30       NaN                NaN               NaN   \n",
      "                2017-05-31       NaN                NaN               NaN   \n",
      "                2017-06-30       NaN                NaN               NaN   \n",
      "...                              ...                ...               ...   \n",
      "Wyoming Weston  2019-08-31       NaN                NaN               NaN   \n",
      "                2019-09-30       NaN                NaN               NaN   \n",
      "                2019-10-31       NaN                NaN               NaN   \n",
      "                2019-11-30       NaN                NaN               NaN   \n",
      "                2019-12-31       NaN                NaN               NaN   \n",
      "\n",
      "                            NO2 AQI   Latitude   Longitude  \n",
      "State   County  Date Local                                  \n",
      "Alabama Baldwin 2017-02-28      NaN  30.497478  -87.880258  \n",
      "                2017-03-31      NaN  30.497478  -87.880258  \n",
      "                2017-04-30      NaN  30.497478  -87.880258  \n",
      "                2017-05-31      NaN  30.497478  -87.880258  \n",
      "                2017-06-30      NaN  30.497478  -87.880258  \n",
      "...                             ...        ...         ...  \n",
      "Wyoming Weston  2019-08-31      NaN  43.859223 -104.198532  \n",
      "                2019-09-30      NaN  43.859223 -104.198532  \n",
      "                2019-10-31      NaN  43.859223 -104.198532  \n",
      "                2019-11-30      NaN  43.859223 -104.198532  \n",
      "                2019-12-31      NaN  43.859223 -104.198532  \n",
      "\n",
      "[29580 rows x 18 columns]\n"
     ]
    }
   ],
   "source": [
    "result.sort_values(by=\"Date Local\")\n",
    "print(result)"
   ]
  },
  {
   "cell_type": "code",
   "execution_count": 12,
   "metadata": {},
   "outputs": [],
   "source": [
    "result.to_csv('result_00-16_by_month.csv')"
   ]
  },
  {
   "cell_type": "code",
   "execution_count": 7,
   "metadata": {},
   "outputs": [],
   "source": [
    "result.to_csv('result_17-20_by_month.csv')"
   ]
  },
  {
   "cell_type": "code",
   "execution_count": null,
   "metadata": {},
   "outputs": [],
   "source": []
  }
 ],
 "metadata": {
  "kernelspec": {
   "display_name": "Python 3",
   "language": "python",
   "name": "python3"
  },
  "language_info": {
   "codemirror_mode": {
    "name": "ipython",
    "version": 3
   },
   "file_extension": ".py",
   "mimetype": "text/x-python",
   "name": "python",
   "nbconvert_exporter": "python",
   "pygments_lexer": "ipython3",
   "version": "3.7.6"
  }
 },
 "nbformat": 4,
 "nbformat_minor": 4
}
